{
 "cells": [
  {
   "cell_type": "markdown",
   "id": "d4562d86",
   "metadata": {},
   "source": []
  },
  {
   "cell_type": "code",
   "execution_count": null,
   "id": "e73ebcff",
   "metadata": {
    "vscode": {
     "languageId": "shellscript"
    }
   },
   "outputs": [],
   "source": [
    "!pip install gen3_validator"
   ]
  },
  {
   "cell_type": "code",
   "execution_count": null,
   "id": "5b84aa37",
   "metadata": {},
   "outputs": [],
   "source": [
    "# import dictionaryutils as du\n",
    "# dd = du.DataDictionary(root_dir=\"../examples/schema/yaml\")\n",
    "# # getting resolved schema\n",
    "# dd.schema.get(\"lipidomics_file\")"
   ]
  },
  {
   "cell_type": "code",
   "execution_count": null,
   "id": "4120220d",
   "metadata": {},
   "outputs": [],
   "source": [
    "from gen3_validator.resolve_schema import ResolveSchema\n",
    "\n",
    "resolver = ResolveSchema(schema_path=\"../examples/schema/json/acdc_schema.json\")\n",
    "resolver.resolve_schema()\n"
   ]
  },
  {
   "cell_type": "code",
   "execution_count": 6,
   "id": "1a24bc51",
   "metadata": {},
   "outputs": [
    {
     "data": {
      "text/plain": [
       "{'$schema': 'http://json-schema.org/draft-04/schema#',\n",
       " 'id': 'demographic',\n",
       " 'title': 'Demographic',\n",
       " 'type': 'object',\n",
       " 'namespace': 'https://data.test.biocommons.org.au/',\n",
       " 'category': 'clinical',\n",
       " 'program': '*',\n",
       " 'project': '*',\n",
       " 'description': 'Data for the characterization of the patient by means of segementing the population (e.g. characterization by age, sex, or race).',\n",
       " 'additionalProperties': False,\n",
       " 'submittable': True,\n",
       " 'validators': None,\n",
       " 'systemProperties': ['id',\n",
       "  'project_id',\n",
       "  'state',\n",
       "  'created_datetime',\n",
       "  'updated_datetime'],\n",
       " 'links': [{'name': 'timepoints',\n",
       "   'backref': 'demographics',\n",
       "   'label': 'describes',\n",
       "   'target_type': 'timepoint',\n",
       "   'multiplicity': 'one_to_one',\n",
       "   'required': True}],\n",
       " 'required': ['type', 'submitter_id', 'timepoints'],\n",
       " 'uniqueKeys': [['id'], ['project_id', 'submitter_id']],\n",
       " 'properties': {'type': {'type': 'string'},\n",
       "  'id': {'term': {'description': 'A 128-bit identifier. Depending on the mechanism used to generate it, it is either guaranteed to be different from all other UUIDs/GUIDs generated until 3400 AD or extremely likely to be different. Its relatively small size lends itself well to sorting, ordering, and hashing of all sorts, storing in databases, simple allocation, and ease of programming in general.\\n',\n",
       "    'termDef': {'term': 'Universally Unique Identifier',\n",
       "     'source': 'NCIt',\n",
       "     'cde_id': 'C54100',\n",
       "     'cde_version': None,\n",
       "     'term_url': 'https://ncit.nci.nih.gov/ncitbrowser/ConceptReport.jsp?dictionary=NCI_Thesaurus&version=16.02d&ns=NCI_Thesaurus&code=C54100'}},\n",
       "   'type': 'string',\n",
       "   'pattern': '^[a-fA-F0-9]{8}-[a-fA-F0-9]{4}-[a-fA-F0-9]{4}-[a-fA-F0-9]{4}-[a-fA-F0-9]{12}$',\n",
       "   'systemAlias': 'node_id'},\n",
       "  'submitter_id': {'type': ['string'],\n",
       "   'description': 'A project-specific identifier for a node. This property is the calling card/nickname/alias for a unit of submission. It can be used in place of the UUID for identifying or recalling a node.\\n'},\n",
       "  'state': {'term': {'description': 'The current state of the object.\\n'},\n",
       "   'default': 'validated',\n",
       "   'downloadable': ['uploaded',\n",
       "    'md5summed',\n",
       "    'validating',\n",
       "    'validated',\n",
       "    'error',\n",
       "    'invalid',\n",
       "    'released'],\n",
       "   'public': ['live'],\n",
       "   'oneOf': [{'enum': ['uploading',\n",
       "      'uploaded',\n",
       "      'md5summing',\n",
       "      'md5summed',\n",
       "      'validating',\n",
       "      'error',\n",
       "      'invalid',\n",
       "      'suppressed',\n",
       "      'redacted',\n",
       "      'live']},\n",
       "    {'enum': ['validated', 'submitted', 'released']}]},\n",
       "  'project_id': {'type': 'string',\n",
       "   'term': {'description': 'Unique ID for any specific defined piece of work that is undertaken or attempted to meet a single requirement.\\n'}},\n",
       "  'created_datetime': {'oneOf': [{'type': 'string', 'format': 'date-time'},\n",
       "    {'type': 'null'}],\n",
       "   'term': {'description': 'A combination of date and time of day in the form [-]CCYY-MM-DDThh:mm:ss[Z|(+|-)hh:mm]\\n'}},\n",
       "  'updated_datetime': {'oneOf': [{'type': 'string', 'format': 'date-time'},\n",
       "    {'type': 'null'}],\n",
       "   'term': {'description': 'A combination of date and time of day in the form [-]CCYY-MM-DDThh:mm:ss[Z|(+|-)hh:mm]\\n'}},\n",
       "  'timepoints': {'anyOf': [{'type': 'array',\n",
       "     'items': {'type': 'object',\n",
       "      'additionalProperties': True,\n",
       "      'properties': {'id': {'term': {'description': 'A 128-bit identifier. Depending on the mechanism used to generate it, it is either guaranteed to be different from all other UUIDs/GUIDs generated until 3400 AD or extremely likely to be different. Its relatively small size lends itself well to sorting, ordering, and hashing of all sorts, storing in databases, simple allocation, and ease of programming in general.\\n',\n",
       "         'termDef': {'term': 'Universally Unique Identifier',\n",
       "          'source': 'NCIt',\n",
       "          'cde_id': 'C54100',\n",
       "          'cde_version': None,\n",
       "          'term_url': 'https://ncit.nci.nih.gov/ncitbrowser/ConceptReport.jsp?dictionary=NCI_Thesaurus&version=16.02d&ns=NCI_Thesaurus&code=C54100'}},\n",
       "        'type': 'string',\n",
       "        'pattern': '^[a-fA-F0-9]{8}-[a-fA-F0-9]{4}-[a-fA-F0-9]{4}-[a-fA-F0-9]{4}-[a-fA-F0-9]{12}$'},\n",
       "       'submitter_id': {'type': 'string'}},\n",
       "      'minItems': 1,\n",
       "      'maxItems': 1}},\n",
       "    {'type': 'object',\n",
       "     'additionalProperties': True,\n",
       "     'properties': {'id': {'term': {'description': 'A 128-bit identifier. Depending on the mechanism used to generate it, it is either guaranteed to be different from all other UUIDs/GUIDs generated until 3400 AD or extremely likely to be different. Its relatively small size lends itself well to sorting, ordering, and hashing of all sorts, storing in databases, simple allocation, and ease of programming in general.\\n',\n",
       "        'termDef': {'term': 'Universally Unique Identifier',\n",
       "         'source': 'NCIt',\n",
       "         'cde_id': 'C54100',\n",
       "         'cde_version': None,\n",
       "         'term_url': 'https://ncit.nci.nih.gov/ncitbrowser/ConceptReport.jsp?dictionary=NCI_Thesaurus&version=16.02d&ns=NCI_Thesaurus&code=C54100'}},\n",
       "       'type': 'string',\n",
       "       'pattern': '^[a-fA-F0-9]{8}-[a-fA-F0-9]{4}-[a-fA-F0-9]{4}-[a-fA-F0-9]{4}-[a-fA-F0-9]{12}$'},\n",
       "      'submitter_id': {'type': 'string'}}}]},\n",
       "  'abs_cluster': {'description': 'Australian bureau of statistics: Name of the suburb where the participant lives',\n",
       "   'type': 'string'},\n",
       "  'abs_state': {'description': 'Australian bureau of statistics: Name of the state where participant lives',\n",
       "   'type': 'string'},\n",
       "  'abs_weight_2000': {'description': 'Australian bureau of statistics: Population weights from 2000',\n",
       "   'type': 'number'},\n",
       "  'baseline_age': {'description': 'Age at baseline (examination/enrolment/visit 1) in years to one decimal place.',\n",
       "   'type': 'number'},\n",
       "  'baseline_date': {'description': 'Date of baseline examination/recruitment/visit 1. In the format [YYYY-MM-DD]',\n",
       "   'type': 'string',\n",
       "   'pattern': '^\\\\d{4}-\\\\d{2}-\\\\d{2}'},\n",
       "  'bmi_baseline': {'description': 'Body mass index calculated at baseline. (kg /(m^2))',\n",
       "   'termDef': [{'term': 'body mass index',\n",
       "     'source': 'efo',\n",
       "     'term_id': 'EFO:0004340'}],\n",
       "   'type': 'number'},\n",
       "  'education': {'description': 'Highest level of education at baseline. low = ABS HEAP [6-9] no education all the way to secondary education, medium = ABS HEAP [4-5] TAFE, diploma, or certificate, high = ABS HEAP [1-3] University qualification |  https://www.abs.gov.au/census/guide-census-data/census-dictionary/2021/variables-topic/education-and-training/level-highest-educational-attainment-heap',\n",
       "   'enum': ['low', 'medium', 'high']},\n",
       "  'education_abs_heap': {'description': 'Highest level of educational attainment based on ABS HEAP 2021 : https://www.abs.gov.au/census/guide-census-data/census-dictionary/2021/variables-topic/education-and-training/level-highest-educational-attainment-heap',\n",
       "   'enum': ['HEAP-1',\n",
       "    'HEAP-2',\n",
       "    'HEAP-3',\n",
       "    'HEAP-4',\n",
       "    'HEAP-5',\n",
       "    'HEAP-6',\n",
       "    'HEAP-7',\n",
       "    'HEAP-8',\n",
       "    'HEAP-9']},\n",
       "  'height_baseline_measured': {'description': 'Measured body height at baseline (m)',\n",
       "   'type': 'number'},\n",
       "  'height_baseline_self_reported': {'description': 'Self reported body height at baseline (m)',\n",
       "   'type': 'number'},\n",
       "  'month_birth': {'description': 'Month of birth at baseline (MM)',\n",
       "   'type': 'integer'},\n",
       "  'postcode': {'description': 'The postcode is used to calculate the Socio-Economic Indexes for Areas (SEIFA) quintile. It may be manually adjusted at the clinician’s discretion to better reflect the socioeconomic status of individual patients.',\n",
       "   'type': 'string',\n",
       "   'pattern': '^\\\\d{4}$'},\n",
       "  'sex': {'description': 'Self-reported biological sex of the participant',\n",
       "   'enum': ['male', 'female']},\n",
       "  'weight_baseline_measured': {'description': 'Measured body weight at baseline (kg)',\n",
       "   'type': 'number'},\n",
       "  'weight_baseline_self_reported': {'description': 'Self reported body weight at baseline (kg)',\n",
       "   'type': 'number'},\n",
       "  'year_birth': {'description': 'Year of birth at baseline (YYYY)',\n",
       "   'type': 'integer'}}}"
      ]
     },
     "execution_count": 6,
     "metadata": {},
     "output_type": "execute_result"
    }
   ],
   "source": [
    "resolver.schema_resolved['demographic.yaml']"
   ]
  },
  {
   "cell_type": "code",
   "execution_count": 5,
   "id": "05492bd5",
   "metadata": {},
   "outputs": [
    {
     "data": {
      "text/plain": [
       "['program',\n",
       " 'project',\n",
       " 'acknowledgement',\n",
       " 'publication',\n",
       " 'subject',\n",
       " 'timepoint',\n",
       " 'demographic',\n",
       " 'imaging_file',\n",
       " 'medical_history',\n",
       " 'blood_pressure_test',\n",
       " 'sample',\n",
       " 'exposure',\n",
       " 'lab_result',\n",
       " 'medication',\n",
       " 'serum_marker_assay',\n",
       " 'lipidomics_assay',\n",
       " 'genomics_assay',\n",
       " 'proteomics_assay',\n",
       " 'metabolomics_assay',\n",
       " 'serum_marker_file',\n",
       " 'lipidomics_file',\n",
       " 'unaligned_reads_file',\n",
       " 'proteomics_file',\n",
       " 'metabolomics_file',\n",
       " 'lipidomics_mapping_file',\n",
       " 'alignment_workflow',\n",
       " 'aligned_reads_file',\n",
       " 'aligned_reads_index_file',\n",
       " 'variant_workflow',\n",
       " 'variant_file',\n",
       " 'core_metadata_collection']"
      ]
     },
     "execution_count": 5,
     "metadata": {},
     "output_type": "execute_result"
    }
   ],
   "source": [
    "# get the node order\n",
    "resolver.node_order"
   ]
  },
  {
   "cell_type": "code",
   "execution_count": 50,
   "id": "5513b45a",
   "metadata": {},
   "outputs": [
    {
     "ename": "KeyError",
     "evalue": "'data_file_properties.md5sum'",
     "output_type": "error",
     "traceback": [
      "\u001b[0;31m---------------------------------------------------------------------------\u001b[0m",
      "\u001b[0;31mKeyError\u001b[0m                                  Traceback (most recent call last)",
      "Cell \u001b[0;32mIn[50], line 2\u001b[0m\n\u001b[1;32m      1\u001b[0m schema \u001b[38;5;241m=\u001b[39m resolver\u001b[38;5;241m.\u001b[39mschema_resolved[\u001b[38;5;124m'\u001b[39m\u001b[38;5;124mproteomics_file.yaml\u001b[39m\u001b[38;5;124m'\u001b[39m]\n\u001b[0;32m----> 2\u001b[0m \u001b[43mschema\u001b[49m\u001b[43m[\u001b[49m\u001b[38;5;124;43m'\u001b[39;49m\u001b[38;5;124;43mproperties\u001b[39;49m\u001b[38;5;124;43m'\u001b[39;49m\u001b[43m]\u001b[49m\u001b[43m[\u001b[49m\u001b[38;5;124;43m'\u001b[39;49m\u001b[38;5;124;43mdata_file_properties.md5sum\u001b[39;49m\u001b[38;5;124;43m'\u001b[39;49m\u001b[43m]\u001b[49m\n",
      "\u001b[0;31mKeyError\u001b[0m: 'data_file_properties.md5sum'"
     ]
    }
   ],
   "source": [
    "schema = resolver.schema_resolved['proteomics_file.yaml']\n",
    "schema['properties']['data_file_properties.md5sum']"
   ]
  },
  {
   "cell_type": "code",
   "execution_count": 91,
   "id": "12202d1e",
   "metadata": {},
   "outputs": [
    {
     "name": "stderr",
     "output_type": "stream",
     "text": [
      "WARNING:__main__:No data_file_properties found in Unaligned Reads File\n"
     ]
    }
   ],
   "source": [
    "# class to extract and store property, data type, and description\n",
    "\n",
    "import logging\n",
    "\n",
    "# Set up logging\n",
    "logging.basicConfig(level=logging.INFO)\n",
    "logger = logging.getLogger(__name__)\n",
    "\n",
    "schema = resolver.schema_resolved['unaligned_reads_file.yaml']\n",
    "\n",
    "class NodeProps:\n",
    "    def __init__(self, resolved_schema: dict):\n",
    "        self.resolved_schema = resolved_schema\n",
    "    \n",
    "    def get_schema_name(self) -> str:\n",
    "        schema_name = self.resolved_schema['title']\n",
    "        return schema_name\n",
    "    \n",
    "    def get_prop_names(self) -> list:\n",
    "        prop_names = list(self.resolved_schema['properties'].keys())\n",
    "        return prop_names\n",
    "    \n",
    "    def get_data_file_prop_names(self) -> list:\n",
    "        \"\"\"\n",
    "        Returns a list of property names under 'data_file_properties' if it exists,\n",
    "        otherwise returns an empty list.\n",
    "        \"\"\"\n",
    "        prop_names = self.get_prop_names()\n",
    "        if \"data_file_properties\" in prop_names:\n",
    "            return list(self.resolved_schema['properties']['data_file_properties'].keys())\n",
    "        logger.warning(f\"No data_file_properties found in {self.get_schema_name()}\")\n",
    "        return None\n",
    "        \n",
    "\n",
    "    def get_prop_info(self, prop_name: str) -> dict:\n",
    "        prop_names  = self.get_prop_names()\n",
    "        prop_data_file_names = self.get_data_file_prop_names()\n",
    "        prop_info = None\n",
    "\n",
    "        if prop_name in prop_names:\n",
    "            prop_info = self.resolved_schema['properties'][prop_name]\n",
    "        elif prop_data_file_names is not None and prop_name in prop_data_file_names:\n",
    "            prop_info = self.resolved_schema['properties']['data_file_properties'][prop_name]\n",
    "        else:\n",
    "            logger.warning(f\"Property '{prop_name}' not found in {self.get_schema_name()}\")\n",
    "            \n",
    "        return prop_info\n",
    "\n",
    "    def get_data_type(self, prop_name: str) -> str:\n",
    "        prop_info = self.get_prop_info(prop_name)\n",
    "        if prop_info is None:\n",
    "            logger.warning(\n",
    "                f\"Property '{prop_name}' not found in {self.get_schema_name()}, could not pull type\"\n",
    "            )\n",
    "            return None\n",
    "\n",
    "        if \"type\" in prop_info and \"pattern\" in prop_info:\n",
    "            prop_type = f\"string | pattern = {prop_info['pattern']}\"\n",
    "        elif \"type\" in prop_info:\n",
    "            prop_type = prop_info[\"type\"]\n",
    "        elif \"enum\" in prop_info:\n",
    "            prop_type = \"enum\"\n",
    "        else:\n",
    "            logger.warning(\n",
    "                f\"Property '{prop_name}' has no 'type' or 'enum' key. \"\n",
    "                f\"Could be an injected property, usually don't need \"\n",
    "                f\"these in the template | prop_info = {prop_info}\"\n",
    "            )\n",
    "            return None\n",
    "\n",
    "        if not isinstance(prop_type, str):\n",
    "            try:\n",
    "                joined_types = \", \".join(prop_type)\n",
    "                logger.warning(\n",
    "                    f\"Property type '{prop_type}' is not string, converting to string: {joined_types}\"\n",
    "                )\n",
    "                return joined_types\n",
    "            except TypeError:\n",
    "                logger.warning(\n",
    "                    f\"Property type '{prop_type}' is not string and could not be joined.\"\n",
    "                )\n",
    "                return str(prop_type)\n",
    "\n",
    "        return prop_type\n",
    "\n",
    "    def get_description(self, prop_name: str) -> str:\n",
    "        prop_info = self.get_prop_info(prop_name)\n",
    "        if prop_info is None:\n",
    "            logger.warning(f\"\"\"Property '{prop_name}' not found in {self.get_schema_name()}, could not pull description\"\"\"\n",
    "            )\n",
    "            return None\n",
    "        prop_description = None\n",
    "        \n",
    "        if \"description\" in prop_info:\n",
    "            prop_description = prop_info['description']\n",
    "        if \"term\" in prop_info:\n",
    "            prop_description = prop_info['term'][\"description\"]\n",
    "        \n",
    "        if prop_description is None:\n",
    "            logger.warning(f\"\"\"Property '{prop_name}' has no description key. \n",
    "                Could be an injected property, usually don't need these in the\n",
    "                template | prop_info = {prop_info}\"\"\"\n",
    "            )\n",
    "        \n",
    "        return prop_description\n",
    "        \n",
    "# usage\n",
    "nodeprops = NodeProps(schema)\n",
    "# nodeprops.get_description(\"md5sum\")\n",
    "nodeprops.get_data_file_prop_names()"
   ]
  },
  {
   "cell_type": "code",
   "execution_count": 95,
   "id": "6073ff88",
   "metadata": {},
   "outputs": [
    {
     "name": "stderr",
     "output_type": "stream",
     "text": [
      "WARNING:__main__:No data_file_properties found in Unaligned Reads File\n"
     ]
    },
    {
     "data": {
      "text/plain": [
       "['type',\n",
       " 'id',\n",
       " 'submitter_id',\n",
       " 'state',\n",
       " 'project_id',\n",
       " 'created_datetime',\n",
       " 'updated_datetime',\n",
       " 'file_name',\n",
       " 'file_size',\n",
       " 'file_format',\n",
       " 'md5sum',\n",
       " 'object_id',\n",
       " 'file_state',\n",
       " 'error_type',\n",
       " 'ga4gh_drs_uri',\n",
       " 'genomics_assay',\n",
       " 'core_metadata_collections',\n",
       " 'data_category',\n",
       " 'data_format',\n",
       " 'data_type',\n",
       " 'run_id']"
      ]
     },
     "execution_count": 95,
     "metadata": {},
     "output_type": "execute_result"
    }
   ],
   "source": [
    "prop_names = nodeprops.get_prop_names()\n",
    "data_file_prop_names = nodeprops.get_data_file_prop_names()\n",
    "if data_file_prop_names is not None:\n",
    "    prop_names = prop_names.append(data_file_prop_names)\n",
    "prop_names"
   ]
  },
  {
   "cell_type": "code",
   "execution_count": 96,
   "id": "5639d6a2",
   "metadata": {},
   "outputs": [
    {
     "name": "stderr",
     "output_type": "stream",
     "text": [
      "WARNING:__main__:No data_file_properties found in Unaligned Reads File\n",
      "WARNING:__main__:Property 'type' has no description key. \n",
      "                Could be an injected property, usually don't need these in the\n",
      "                template | prop_info = {'type': 'string'}\n",
      "WARNING:__main__:No data_file_properties found in Unaligned Reads File\n",
      "WARNING:__main__:No data_file_properties found in Unaligned Reads File\n",
      "WARNING:__main__:No data_file_properties found in Unaligned Reads File\n",
      "WARNING:__main__:No data_file_properties found in Unaligned Reads File\n",
      "WARNING:__main__:No data_file_properties found in Unaligned Reads File\n",
      "WARNING:__main__:No data_file_properties found in Unaligned Reads File\n",
      "WARNING:__main__:No data_file_properties found in Unaligned Reads File\n",
      "WARNING:__main__:No data_file_properties found in Unaligned Reads File\n",
      "WARNING:__main__:No data_file_properties found in Unaligned Reads File\n",
      "WARNING:__main__:No data_file_properties found in Unaligned Reads File\n",
      "WARNING:__main__:No data_file_properties found in Unaligned Reads File\n",
      "WARNING:__main__:No data_file_properties found in Unaligned Reads File\n",
      "WARNING:__main__:No data_file_properties found in Unaligned Reads File\n",
      "WARNING:__main__:No data_file_properties found in Unaligned Reads File\n",
      "WARNING:__main__:No data_file_properties found in Unaligned Reads File\n",
      "WARNING:__main__:Property 'genomics_assay' has no description key. \n",
      "                Could be an injected property, usually don't need these in the\n",
      "                template | prop_info = {'anyOf': [{'type': 'array', 'items': {'type': 'object', 'additionalProperties': True, 'properties': {'id': {'term': {'description': 'A 128-bit identifier. Depending on the mechanism used to generate it, it is either guaranteed to be different from all other UUIDs/GUIDs generated until 3400 AD or extremely likely to be different. Its relatively small size lends itself well to sorting, ordering, and hashing of all sorts, storing in databases, simple allocation, and ease of programming in general.\\n', 'termDef': {'term': 'Universally Unique Identifier', 'source': 'NCIt', 'cde_id': 'C54100', 'cde_version': None, 'term_url': 'https://ncit.nci.nih.gov/ncitbrowser/ConceptReport.jsp?dictionary=NCI_Thesaurus&version=16.02d&ns=NCI_Thesaurus&code=C54100'}}, 'type': 'string', 'pattern': '^[a-fA-F0-9]{8}-[a-fA-F0-9]{4}-[a-fA-F0-9]{4}-[a-fA-F0-9]{4}-[a-fA-F0-9]{12}$'}, 'submitter_id': {'type': 'string'}}, 'minItems': 1, 'maxItems': 1}}, {'type': 'object', 'additionalProperties': True, 'properties': {'id': {'term': {'description': 'A 128-bit identifier. Depending on the mechanism used to generate it, it is either guaranteed to be different from all other UUIDs/GUIDs generated until 3400 AD or extremely likely to be different. Its relatively small size lends itself well to sorting, ordering, and hashing of all sorts, storing in databases, simple allocation, and ease of programming in general.\\n', 'termDef': {'term': 'Universally Unique Identifier', 'source': 'NCIt', 'cde_id': 'C54100', 'cde_version': None, 'term_url': 'https://ncit.nci.nih.gov/ncitbrowser/ConceptReport.jsp?dictionary=NCI_Thesaurus&version=16.02d&ns=NCI_Thesaurus&code=C54100'}}, 'type': 'string', 'pattern': '^[a-fA-F0-9]{8}-[a-fA-F0-9]{4}-[a-fA-F0-9]{4}-[a-fA-F0-9]{4}-[a-fA-F0-9]{12}$'}, 'submitter_id': {'type': 'string'}}}]}\n",
      "WARNING:__main__:No data_file_properties found in Unaligned Reads File\n",
      "WARNING:__main__:Property 'core_metadata_collections' has no description key. \n",
      "                Could be an injected property, usually don't need these in the\n",
      "                template | prop_info = {'anyOf': [{'type': 'array', 'items': {'type': 'object', 'additionalProperties': True, 'properties': {'id': {'term': {'description': 'A 128-bit identifier. Depending on the mechanism used to generate it, it is either guaranteed to be different from all other UUIDs/GUIDs generated until 3400 AD or extremely likely to be different. Its relatively small size lends itself well to sorting, ordering, and hashing of all sorts, storing in databases, simple allocation, and ease of programming in general.\\n', 'termDef': {'term': 'Universally Unique Identifier', 'source': 'NCIt', 'cde_id': 'C54100', 'cde_version': None, 'term_url': 'https://ncit.nci.nih.gov/ncitbrowser/ConceptReport.jsp?dictionary=NCI_Thesaurus&version=16.02d&ns=NCI_Thesaurus&code=C54100'}}, 'type': 'string', 'pattern': '^[a-fA-F0-9]{8}-[a-fA-F0-9]{4}-[a-fA-F0-9]{4}-[a-fA-F0-9]{4}-[a-fA-F0-9]{12}$'}, 'submitter_id': {'type': 'string'}}, 'minItems': 1, 'maxItems': 1}}, {'type': 'object', 'additionalProperties': True, 'properties': {'id': {'term': {'description': 'A 128-bit identifier. Depending on the mechanism used to generate it, it is either guaranteed to be different from all other UUIDs/GUIDs generated until 3400 AD or extremely likely to be different. Its relatively small size lends itself well to sorting, ordering, and hashing of all sorts, storing in databases, simple allocation, and ease of programming in general.\\n', 'termDef': {'term': 'Universally Unique Identifier', 'source': 'NCIt', 'cde_id': 'C54100', 'cde_version': None, 'term_url': 'https://ncit.nci.nih.gov/ncitbrowser/ConceptReport.jsp?dictionary=NCI_Thesaurus&version=16.02d&ns=NCI_Thesaurus&code=C54100'}}, 'type': 'string', 'pattern': '^[a-fA-F0-9]{8}-[a-fA-F0-9]{4}-[a-fA-F0-9]{4}-[a-fA-F0-9]{4}-[a-fA-F0-9]{12}$'}, 'submitter_id': {'type': 'string'}}}]}\n",
      "WARNING:__main__:No data_file_properties found in Unaligned Reads File\n",
      "WARNING:__main__:No data_file_properties found in Unaligned Reads File\n",
      "WARNING:__main__:No data_file_properties found in Unaligned Reads File\n",
      "WARNING:__main__:No data_file_properties found in Unaligned Reads File\n"
     ]
    },
    {
     "data": {
      "text/plain": [
       "{'type': None,\n",
       " 'id': 'A 128-bit identifier. Depending on the mechanism used to generate it, it is either guaranteed to be different from all other UUIDs/GUIDs generated until 3400 AD or extremely likely to be different. Its relatively small size lends itself well to sorting, ordering, and hashing of all sorts, storing in databases, simple allocation, and ease of programming in general.\\n',\n",
       " 'submitter_id': 'A project-specific identifier for a node. This property is the calling card/nickname/alias for a unit of submission. It can be used in place of the UUID for identifying or recalling a node.\\n',\n",
       " 'state': 'The current state of the object.\\n',\n",
       " 'project_id': 'Unique ID for any specific defined piece of work that is undertaken or attempted to meet a single requirement.\\n',\n",
       " 'created_datetime': 'A combination of date and time of day in the form [-]CCYY-MM-DDThh:mm:ss[Z|(+|-)hh:mm]\\n',\n",
       " 'updated_datetime': 'A combination of date and time of day in the form [-]CCYY-MM-DDThh:mm:ss[Z|(+|-)hh:mm]\\n',\n",
       " 'file_name': 'The name (or part of a name) of a file (of any type).\\n',\n",
       " 'file_size': 'The size of the data file (object) in bytes.\\n',\n",
       " 'file_format': 'The format of the data file object.\\n',\n",
       " 'md5sum': \"The 128-bit hash value expressed as a 32 digit hexadecimal number used as a file's digital fingerprint.\\n\",\n",
       " 'object_id': 'The GUID of the object in the index service.',\n",
       " 'file_state': 'The current state of the data file object.\\n',\n",
       " 'error_type': 'Type of error for the data file object.\\n',\n",
       " 'ga4gh_drs_uri': 'DRS URI as defined by GA4GH DRS spec for pointers to file objects.\\n',\n",
       " 'genomics_assay': None,\n",
       " 'core_metadata_collections': None,\n",
       " 'data_category': 'Broad categorization of the contents of the data file.',\n",
       " 'data_format': 'Format of the data files.',\n",
       " 'data_type': 'Specific content type of the data file.',\n",
       " 'run_id': 'Sequencing run ID associated with file'}"
      ]
     },
     "execution_count": 96,
     "metadata": {},
     "output_type": "execute_result"
    }
   ],
   "source": [
    "descriptions = {}\n",
    "for prop_name in prop_names:\n",
    "    descriptions[prop_name] = nodeprops.get_description(prop_name)\n",
    "descriptions"
   ]
  },
  {
   "cell_type": "code",
   "execution_count": 97,
   "id": "9170f3c4",
   "metadata": {},
   "outputs": [
    {
     "name": "stderr",
     "output_type": "stream",
     "text": [
      "WARNING:__main__:No data_file_properties found in Unaligned Reads File\n",
      "WARNING:__main__:No data_file_properties found in Unaligned Reads File\n",
      "WARNING:__main__:No data_file_properties found in Unaligned Reads File\n",
      "WARNING:__main__:Property type '['string']' is not string, converting to string: string\n",
      "WARNING:__main__:No data_file_properties found in Unaligned Reads File\n",
      "WARNING:__main__:Property 'state' has no 'type' or 'enum' key. Could be an injected property, usually don't need these in the template | prop_info = {'term': {'description': 'The current state of the object.\\n'}, 'default': 'validated', 'downloadable': ['uploaded', 'md5summed', 'validating', 'validated', 'error', 'invalid', 'released'], 'public': ['live'], 'oneOf': [{'enum': ['uploading', 'uploaded', 'md5summing', 'md5summed', 'validating', 'error', 'invalid', 'suppressed', 'redacted', 'live']}, {'enum': ['validated', 'submitted', 'released']}]}\n",
      "WARNING:__main__:No data_file_properties found in Unaligned Reads File\n",
      "WARNING:__main__:No data_file_properties found in Unaligned Reads File\n",
      "WARNING:__main__:Property 'created_datetime' has no 'type' or 'enum' key. Could be an injected property, usually don't need these in the template | prop_info = {'oneOf': [{'type': 'string', 'format': 'date-time'}, {'type': 'null'}], 'term': {'description': 'A combination of date and time of day in the form [-]CCYY-MM-DDThh:mm:ss[Z|(+|-)hh:mm]\\n'}}\n",
      "WARNING:__main__:No data_file_properties found in Unaligned Reads File\n",
      "WARNING:__main__:Property 'updated_datetime' has no 'type' or 'enum' key. Could be an injected property, usually don't need these in the template | prop_info = {'oneOf': [{'type': 'string', 'format': 'date-time'}, {'type': 'null'}], 'term': {'description': 'A combination of date and time of day in the form [-]CCYY-MM-DDThh:mm:ss[Z|(+|-)hh:mm]\\n'}}\n",
      "WARNING:__main__:No data_file_properties found in Unaligned Reads File\n",
      "WARNING:__main__:No data_file_properties found in Unaligned Reads File\n",
      "WARNING:__main__:No data_file_properties found in Unaligned Reads File\n",
      "WARNING:__main__:No data_file_properties found in Unaligned Reads File\n",
      "WARNING:__main__:No data_file_properties found in Unaligned Reads File\n",
      "WARNING:__main__:No data_file_properties found in Unaligned Reads File\n",
      "WARNING:__main__:No data_file_properties found in Unaligned Reads File\n",
      "WARNING:__main__:No data_file_properties found in Unaligned Reads File\n",
      "WARNING:__main__:No data_file_properties found in Unaligned Reads File\n",
      "WARNING:__main__:Property 'genomics_assay' has no 'type' or 'enum' key. Could be an injected property, usually don't need these in the template | prop_info = {'anyOf': [{'type': 'array', 'items': {'type': 'object', 'additionalProperties': True, 'properties': {'id': {'term': {'description': 'A 128-bit identifier. Depending on the mechanism used to generate it, it is either guaranteed to be different from all other UUIDs/GUIDs generated until 3400 AD or extremely likely to be different. Its relatively small size lends itself well to sorting, ordering, and hashing of all sorts, storing in databases, simple allocation, and ease of programming in general.\\n', 'termDef': {'term': 'Universally Unique Identifier', 'source': 'NCIt', 'cde_id': 'C54100', 'cde_version': None, 'term_url': 'https://ncit.nci.nih.gov/ncitbrowser/ConceptReport.jsp?dictionary=NCI_Thesaurus&version=16.02d&ns=NCI_Thesaurus&code=C54100'}}, 'type': 'string', 'pattern': '^[a-fA-F0-9]{8}-[a-fA-F0-9]{4}-[a-fA-F0-9]{4}-[a-fA-F0-9]{4}-[a-fA-F0-9]{12}$'}, 'submitter_id': {'type': 'string'}}, 'minItems': 1, 'maxItems': 1}}, {'type': 'object', 'additionalProperties': True, 'properties': {'id': {'term': {'description': 'A 128-bit identifier. Depending on the mechanism used to generate it, it is either guaranteed to be different from all other UUIDs/GUIDs generated until 3400 AD or extremely likely to be different. Its relatively small size lends itself well to sorting, ordering, and hashing of all sorts, storing in databases, simple allocation, and ease of programming in general.\\n', 'termDef': {'term': 'Universally Unique Identifier', 'source': 'NCIt', 'cde_id': 'C54100', 'cde_version': None, 'term_url': 'https://ncit.nci.nih.gov/ncitbrowser/ConceptReport.jsp?dictionary=NCI_Thesaurus&version=16.02d&ns=NCI_Thesaurus&code=C54100'}}, 'type': 'string', 'pattern': '^[a-fA-F0-9]{8}-[a-fA-F0-9]{4}-[a-fA-F0-9]{4}-[a-fA-F0-9]{4}-[a-fA-F0-9]{12}$'}, 'submitter_id': {'type': 'string'}}}]}\n",
      "WARNING:__main__:No data_file_properties found in Unaligned Reads File\n",
      "WARNING:__main__:Property 'core_metadata_collections' has no 'type' or 'enum' key. Could be an injected property, usually don't need these in the template | prop_info = {'anyOf': [{'type': 'array', 'items': {'type': 'object', 'additionalProperties': True, 'properties': {'id': {'term': {'description': 'A 128-bit identifier. Depending on the mechanism used to generate it, it is either guaranteed to be different from all other UUIDs/GUIDs generated until 3400 AD or extremely likely to be different. Its relatively small size lends itself well to sorting, ordering, and hashing of all sorts, storing in databases, simple allocation, and ease of programming in general.\\n', 'termDef': {'term': 'Universally Unique Identifier', 'source': 'NCIt', 'cde_id': 'C54100', 'cde_version': None, 'term_url': 'https://ncit.nci.nih.gov/ncitbrowser/ConceptReport.jsp?dictionary=NCI_Thesaurus&version=16.02d&ns=NCI_Thesaurus&code=C54100'}}, 'type': 'string', 'pattern': '^[a-fA-F0-9]{8}-[a-fA-F0-9]{4}-[a-fA-F0-9]{4}-[a-fA-F0-9]{4}-[a-fA-F0-9]{12}$'}, 'submitter_id': {'type': 'string'}}, 'minItems': 1, 'maxItems': 1}}, {'type': 'object', 'additionalProperties': True, 'properties': {'id': {'term': {'description': 'A 128-bit identifier. Depending on the mechanism used to generate it, it is either guaranteed to be different from all other UUIDs/GUIDs generated until 3400 AD or extremely likely to be different. Its relatively small size lends itself well to sorting, ordering, and hashing of all sorts, storing in databases, simple allocation, and ease of programming in general.\\n', 'termDef': {'term': 'Universally Unique Identifier', 'source': 'NCIt', 'cde_id': 'C54100', 'cde_version': None, 'term_url': 'https://ncit.nci.nih.gov/ncitbrowser/ConceptReport.jsp?dictionary=NCI_Thesaurus&version=16.02d&ns=NCI_Thesaurus&code=C54100'}}, 'type': 'string', 'pattern': '^[a-fA-F0-9]{8}-[a-fA-F0-9]{4}-[a-fA-F0-9]{4}-[a-fA-F0-9]{4}-[a-fA-F0-9]{12}$'}, 'submitter_id': {'type': 'string'}}}]}\n",
      "WARNING:__main__:No data_file_properties found in Unaligned Reads File\n",
      "WARNING:__main__:No data_file_properties found in Unaligned Reads File\n",
      "WARNING:__main__:No data_file_properties found in Unaligned Reads File\n",
      "WARNING:__main__:No data_file_properties found in Unaligned Reads File\n"
     ]
    },
    {
     "data": {
      "text/plain": [
       "{'type': 'string',\n",
       " 'id': 'string | pattern = ^[a-fA-F0-9]{8}-[a-fA-F0-9]{4}-[a-fA-F0-9]{4}-[a-fA-F0-9]{4}-[a-fA-F0-9]{12}$',\n",
       " 'submitter_id': 'string',\n",
       " 'state': None,\n",
       " 'project_id': 'string',\n",
       " 'created_datetime': None,\n",
       " 'updated_datetime': None,\n",
       " 'file_name': 'string',\n",
       " 'file_size': 'integer',\n",
       " 'file_format': 'string',\n",
       " 'md5sum': 'string | pattern = ^[a-f0-9]{32}$',\n",
       " 'object_id': 'string',\n",
       " 'file_state': 'enum',\n",
       " 'error_type': 'enum',\n",
       " 'ga4gh_drs_uri': 'string',\n",
       " 'genomics_assay': None,\n",
       " 'core_metadata_collections': None,\n",
       " 'data_category': 'enum',\n",
       " 'data_format': 'enum',\n",
       " 'data_type': 'enum',\n",
       " 'run_id': 'string'}"
      ]
     },
     "execution_count": 97,
     "metadata": {},
     "output_type": "execute_result"
    }
   ],
   "source": [
    "types = {}\n",
    "for prop_name in prop_names:\n",
    "    types[prop_name] = nodeprops.get_data_type(prop_name)\n",
    "types"
   ]
  },
  {
   "cell_type": "code",
   "execution_count": null,
   "id": "7465cf66",
   "metadata": {},
   "outputs": [],
   "source": [
    "import pytest\n",
    "from gen3_validator.resolve_schema import ResolveSchema\n",
    "\n",
    "@pytest.fixture\n",
    "def fixture_res_schema():\n",
    "    resolver = ResolveSchema(schema_path=\"../examples/schema/json/acdc_schema.json\")\n",
    "    resolver.resolve_schema()\n",
    "    return resolver.schema_resolved['unaligned_reads_file.yaml']\n",
    "\n",
    "def test_init_NodeProps(fixture_res_schema):\n",
    "    nodeprops = NodeProps(fixture_res_schema)\n",
    "    assert fixture_res_schema == nodeprops.resolved_schema"
   ]
  },
  {
   "cell_type": "code",
   "execution_count": 22,
   "id": "ab566509",
   "metadata": {},
   "outputs": [
    {
     "data": {
      "text/plain": [
       "'one, two'"
      ]
     },
     "execution_count": 22,
     "metadata": {},
     "output_type": "execute_result"
    }
   ],
   "source": [
    "t = \", \".join({\"one\": \"test\", \"two\": \"test\"})\n",
    "t"
   ]
  },
  {
   "cell_type": "code",
   "execution_count": null,
   "id": "41fb60ef",
   "metadata": {},
   "outputs": [],
   "source": []
  }
 ],
 "metadata": {
  "kernelspec": {
   "display_name": ".venv",
   "language": "python",
   "name": "python3"
  },
  "language_info": {
   "codemirror_mode": {
    "name": "ipython",
    "version": 3
   },
   "file_extension": ".py",
   "mimetype": "text/x-python",
   "name": "python",
   "nbconvert_exporter": "python",
   "pygments_lexer": "ipython3",
   "version": "3.9.5"
  }
 },
 "nbformat": 4,
 "nbformat_minor": 5
}
